{
 "cells": [
  {
   "cell_type": "code",
   "execution_count": 4,
   "metadata": {},
   "outputs": [
    {
     "name": "stdout",
     "output_type": "stream",
     "text": [
      "54388\n"
     ]
    }
   ],
   "source": [
    "# Part 1\n",
    "import re\n",
    "def calibrate(line) :\n",
    "    cal = re.sub(\"[^0-9]\", \"\", line)\n",
    "    if len(cal) == 1:\n",
    "        return int(cal+cal)\n",
    "    else:    \n",
    "        return int(cal[0]+cal[-1])\n",
    "\n",
    "file = open('day1_input.txt','r')\n",
    "sum = 0\n",
    "for x in file:\n",
    "    sum += calibrate(x)\n",
    "\n",
    "file.close\n",
    "print(sum)"
   ]
  },
  {
   "cell_type": "code",
   "execution_count": 5,
   "metadata": {},
   "outputs": [
    {
     "name": "stdout",
     "output_type": "stream",
     "text": [
      "53515\n"
     ]
    }
   ],
   "source": [
    "# Part 2\n",
    "import re\n",
    "numbers = {}\n",
    "def calibrate_v2(line) :\n",
    "\n",
    "    line = str.replace(line, 'one', 'one1one')\n",
    "    line = str.replace(line, 'two', 'two2two')\n",
    "    line = str.replace(line, 'three', 'three3three')\n",
    "    line = str.replace(line, 'four', 'four4four')\n",
    "    line = str.replace(line, 'five', 'five5five')\n",
    "    line = str.replace(line, 'six', 'six6six')\n",
    "    line = str.replace(line, 'seven', 'seven7seven')\n",
    "    line = str.replace(line, 'eight', 'eight8eight')\n",
    "    line = str.replace(line, 'nine', 'nine9nine')\n",
    "\n",
    "    cal = re.sub(\"[^0-9]\", \"\", line)\n",
    "    if len(cal) == 1:\n",
    "        return int(cal+cal)\n",
    "    else:    \n",
    "        return int(cal[0]+cal[-1])\n",
    "\n",
    "file = open('day1_input.txt','r')\n",
    "sum = 0\n",
    "for x in file:\n",
    "    sum += calibrate_v2(x)\n",
    "\n",
    "file.close\n",
    "print(sum)"
   ]
  },
  {
   "cell_type": "code",
   "execution_count": null,
   "metadata": {},
   "outputs": [],
   "source": []
  }
 ],
 "metadata": {
  "kernelspec": {
   "display_name": "Python 3",
   "language": "python",
   "name": "python3"
  },
  "language_info": {
   "codemirror_mode": {
    "name": "ipython",
    "version": 3
   },
   "file_extension": ".py",
   "mimetype": "text/x-python",
   "name": "python",
   "nbconvert_exporter": "python",
   "pygments_lexer": "ipython3",
   "version": "3.10.0"
  },
  "orig_nbformat": 4
 },
 "nbformat": 4,
 "nbformat_minor": 2
}
