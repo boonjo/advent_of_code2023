{
 "cells": [
  {
   "cell_type": "code",
   "execution_count": 3,
   "metadata": {},
   "outputs": [
    {
     "name": "stdout",
     "output_type": "stream",
     "text": [
      "2256\n"
     ]
    }
   ],
   "source": [
    "# Part 1\n",
    "def color_cubes(game) :\n",
    "    id = game[4:game.find(':')]\n",
    "    size = game.count(';')\n",
    "    game = str.replace(game, ' ', '')\n",
    "    i = 0\n",
    "    game_index = 0\n",
    "\n",
    "    while True:\n",
    "\n",
    "        subgame = game[game_index:]\n",
    "        game_index = game.find(';')\n",
    "\n",
    "        game = game.replace(';', 'X',1)\n",
    "\n",
    "        red = subgame.find('red')\n",
    "        if red :\n",
    "            rnum = subgame[red-1]\n",
    "\n",
    "        blue = subgame.find('blue')\n",
    "        if blue :\n",
    "            bnum = subgame[blue-1]\n",
    "\n",
    "        green = subgame.find('green')\n",
    "        if green :\n",
    "            gnum = subgame[green-1]\n",
    "\n",
    "        if subgame[red-2].isnumeric() and int(subgame[red-2]+rnum) > 12:\n",
    "            return 0\n",
    "\n",
    "        if subgame[blue-2].isnumeric() and int(subgame[blue-2]+bnum) > 14:\n",
    "            return 0\n",
    "\n",
    "        if subgame[green-2].isnumeric() and int(subgame[green-2]+gnum) > 13:\n",
    "            return 0\n",
    "\n",
    "        if i == size:\n",
    "            break\n",
    "        i += 1\n",
    "\n",
    "\n",
    "    return int(id)\n",
    "\n",
    "file = open('day2_input.txt','r')\n",
    "count = 0\n",
    "for x in file:\n",
    "    count += color_cubes(x)\n",
    "\n",
    "file.close\n",
    "print(count)"
   ]
  },
  {
   "cell_type": "code",
   "execution_count": 4,
   "metadata": {},
   "outputs": [
    {
     "name": "stdout",
     "output_type": "stream",
     "text": [
      "74229\n"
     ]
    }
   ],
   "source": [
    "# Part 2\n",
    "def color_cubesv2(game) :\n",
    "    size = game.count(';')\n",
    "    game = str.replace(game, ' ', '')\n",
    "    i = 0\n",
    "    game_index = 0\n",
    "    rmax = 1\n",
    "    bmax = 1\n",
    "    gmax = 1\n",
    "\n",
    "    while True:\n",
    "        subgame = game[game_index:]\n",
    "        game_index = game.find(';')\n",
    "\n",
    "        game = game.replace(';', 'X',1)\n",
    "\n",
    "        red = subgame.find('red')\n",
    "        if red != 1:\n",
    "            rnum = subgame[red-1]\n",
    "\n",
    "        blue = subgame.find('blue')\n",
    "        if blue != 1:\n",
    "            bnum = subgame[blue-1]\n",
    "\n",
    "        green = subgame.find('green')\n",
    "        if green != 1:\n",
    "            gnum = subgame[green-1]\n",
    "\n",
    "        if subgame[red-2].isnumeric() :\n",
    "            if int(subgame[red-2]+rnum) > rmax:\n",
    "                rmax = int(subgame[red-2]+rnum)\n",
    "        else:\n",
    "            if rnum.isnumeric() and int(float(rnum)) > rmax:\n",
    "                 rmax = int(rnum)\n",
    "\n",
    "        if subgame[blue-2].isnumeric() :\n",
    "            if int(subgame[blue-2]+bnum) > bmax:\n",
    "                bmax = int(subgame[blue-2]+bnum)\n",
    "        else:\n",
    "            if bnum.isnumeric() and int(float(bnum)) > bmax:\n",
    "                 bmax = int(bnum)\n",
    "\n",
    "        if subgame[green-2].isnumeric() :\n",
    "            if int(subgame[green-2]+gnum) > gmax:\n",
    "                gmax = int(subgame[green-2]+gnum)\n",
    "        else:\n",
    "            if gnum.isnumeric() and int(float(gnum)) > gmax:\n",
    "                 gmax = int(gnum)\n",
    "\n",
    "        if i == size:\n",
    "            break\n",
    "        i += 1\n",
    "\n",
    "\n",
    "    return rmax * gmax * bmax\n",
    "\n",
    "file = open('day2_input.txt','r')\n",
    "count = 0\n",
    "for x in file:\n",
    "    count += color_cubesv2(x)\n",
    "\n",
    "file.close\n",
    "print(count)"
   ]
  },
  {
   "cell_type": "code",
   "execution_count": null,
   "metadata": {},
   "outputs": [],
   "source": []
  }
 ],
 "metadata": {
  "kernelspec": {
   "display_name": "Python 3",
   "language": "python",
   "name": "python3"
  },
  "language_info": {
   "codemirror_mode": {
    "name": "ipython",
    "version": 3
   },
   "file_extension": ".py",
   "mimetype": "text/x-python",
   "name": "python",
   "nbconvert_exporter": "python",
   "pygments_lexer": "ipython3",
   "version": "3.10.0"
  },
  "orig_nbformat": 4
 },
 "nbformat": 4,
 "nbformat_minor": 2
}
